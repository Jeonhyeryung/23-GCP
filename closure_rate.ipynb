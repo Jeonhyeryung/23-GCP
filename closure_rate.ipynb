{
  "nbformat": 4,
  "nbformat_minor": 0,
  "metadata": {
    "colab": {
      "provenance": [],
      "toc_visible": true
    },
    "kernelspec": {
      "name": "python3",
      "display_name": "Python 3"
    },
    "language_info": {
      "name": "python"
    }
  },
  "cells": [
    {
      "cell_type": "code",
      "source": [
        "from google.colab import drive\n",
        "drive.mount('/content/drive')"
      ],
      "metadata": {
        "colab": {
          "base_uri": "https://localhost:8080/"
        },
        "id": "MG7fe-h6BhfW",
        "outputId": "78ef96e3-3c60-43e5-b8c9-3742b35b0372"
      },
      "execution_count": 1,
      "outputs": [
        {
          "output_type": "stream",
          "name": "stdout",
          "text": [
            "Drive already mounted at /content/drive; to attempt to forcibly remount, call drive.mount(\"/content/drive\", force_remount=True).\n"
          ]
        }
      ]
    },
    {
      "cell_type": "code",
      "execution_count": null,
      "metadata": {
        "id": "NsDfWkw8BXI5"
      },
      "outputs": [],
      "source": [
        "!sudo apt-get install -y fonts-nanum\n",
        "!sudo fc-cache -fv\n",
        "!rm ~/.cache/matplotlib -rf"
      ]
    },
    {
      "cell_type": "code",
      "source": [
        "import pandas as pd\n",
        "\n",
        "file_path = '/content/drive/MyDrive/[23-2] GCP/fulldata_07_24_04_P_일반음식점.csv'  # CSV 파일 경로\n",
        "df = pd.read_csv(file_path,  encoding='cp949')\n",
        "file_1_path = '/content/drive/MyDrive/[23-2] GCP/fulldata_07_24_05_P_휴게음식점.csv'  # CSV 파일 경로\n",
        "df_1 = pd.read_csv(file_1_path,  encoding='cp949')\n",
        "\n",
        "merged_df = pd.concat([df, df_1], axis=0)"
      ],
      "metadata": {
        "colab": {
          "base_uri": "https://localhost:8080/"
        },
        "id": "rlwzNtydB3rj",
        "outputId": "d361eaf6-e046-4c0e-c7bf-44a47ead949a"
      },
      "execution_count": 2,
      "outputs": [
        {
          "output_type": "stream",
          "name": "stderr",
          "text": [
            "<ipython-input-2-39a623c321c6>:4: DtypeWarning: Columns (11,27,39,41,44,45) have mixed types. Specify dtype option on import or set low_memory=False.\n",
            "  df = pd.read_csv(file_path,  encoding='cp949')\n",
            "<ipython-input-2-39a623c321c6>:6: DtypeWarning: Columns (11,39,44,45) have mixed types. Specify dtype option on import or set low_memory=False.\n",
            "  df_1 = pd.read_csv(file_1_path,  encoding='cp949')\n"
          ]
        }
      ]
    },
    {
      "cell_type": "code",
      "source": [
        "merged_df.head()"
      ],
      "metadata": {
        "colab": {
          "base_uri": "https://localhost:8080/",
          "height": 357
        },
        "id": "UMtWsdTlCsaK",
        "outputId": "63a039aa-9824-4296-c6e0-60a94eee6223"
      },
      "execution_count": 4,
      "outputs": [
        {
          "output_type": "execute_result",
          "data": {
            "text/plain": [
              "   번호 개방서비스명    개방서비스아이디  개방자치단체코드                    관리번호       인허가일자  \\\n",
              "0   1  일반음식점  07_24_04_P   3930000  5560000-101-2023-00271  2023-09-22   \n",
              "1   2  일반음식점  07_24_04_P   4710000  4710000-101-2023-00096  2023-09-22   \n",
              "2   3  일반음식점  07_24_04_P   3740000  3770000-101-2023-00341  2023-09-22   \n",
              "3   4  일반음식점  07_24_04_P   3740000  3770000-101-2023-00339  2023-09-22   \n",
              "4   5  일반음식점  07_24_04_P   4221000  4221000-101-2023-00058  2023-09-22   \n",
              "\n",
              "   인허가취소일자  영업상태구분코드 영업상태명  상세영업상태코드  ... 공장생산직직원수 건물소유구분명  보증액  월세액  \\\n",
              "0      NaN         3    폐업         2  ...      0.0     NaN  0.0  0.0   \n",
              "1      NaN         3    폐업         2  ...      0.0     NaN  0.0  0.0   \n",
              "2      NaN         3    폐업         2  ...      0.0     NaN  0.0  0.0   \n",
              "3      NaN         3    폐업         2  ...      0.0     NaN  0.0  0.0   \n",
              "4      NaN         3    폐업         2  ...      0.0     NaN  0.0  0.0   \n",
              "\n",
              "   다중이용업소여부 시설총규모  전통업소지정번호 전통업소주된음식 홈페이지 Unnamed: 47  \n",
              "0         N   0.0       NaN      NaN  NaN         NaN  \n",
              "1         N   9.0       NaN      NaN  NaN         NaN  \n",
              "2         N   0.0       NaN      NaN  NaN         NaN  \n",
              "3         N   0.0       NaN      NaN  NaN         NaN  \n",
              "4         N   0.0       NaN      NaN  NaN         NaN  \n",
              "\n",
              "[5 rows x 48 columns]"
            ],
            "text/html": [
              "\n",
              "  <div id=\"df-68b314a1-a293-4420-b38e-52480d92b6e4\" class=\"colab-df-container\">\n",
              "    <div>\n",
              "<style scoped>\n",
              "    .dataframe tbody tr th:only-of-type {\n",
              "        vertical-align: middle;\n",
              "    }\n",
              "\n",
              "    .dataframe tbody tr th {\n",
              "        vertical-align: top;\n",
              "    }\n",
              "\n",
              "    .dataframe thead th {\n",
              "        text-align: right;\n",
              "    }\n",
              "</style>\n",
              "<table border=\"1\" class=\"dataframe\">\n",
              "  <thead>\n",
              "    <tr style=\"text-align: right;\">\n",
              "      <th></th>\n",
              "      <th>번호</th>\n",
              "      <th>개방서비스명</th>\n",
              "      <th>개방서비스아이디</th>\n",
              "      <th>개방자치단체코드</th>\n",
              "      <th>관리번호</th>\n",
              "      <th>인허가일자</th>\n",
              "      <th>인허가취소일자</th>\n",
              "      <th>영업상태구분코드</th>\n",
              "      <th>영업상태명</th>\n",
              "      <th>상세영업상태코드</th>\n",
              "      <th>...</th>\n",
              "      <th>공장생산직직원수</th>\n",
              "      <th>건물소유구분명</th>\n",
              "      <th>보증액</th>\n",
              "      <th>월세액</th>\n",
              "      <th>다중이용업소여부</th>\n",
              "      <th>시설총규모</th>\n",
              "      <th>전통업소지정번호</th>\n",
              "      <th>전통업소주된음식</th>\n",
              "      <th>홈페이지</th>\n",
              "      <th>Unnamed: 47</th>\n",
              "    </tr>\n",
              "  </thead>\n",
              "  <tbody>\n",
              "    <tr>\n",
              "      <th>0</th>\n",
              "      <td>1</td>\n",
              "      <td>일반음식점</td>\n",
              "      <td>07_24_04_P</td>\n",
              "      <td>3930000</td>\n",
              "      <td>5560000-101-2023-00271</td>\n",
              "      <td>2023-09-22</td>\n",
              "      <td>NaN</td>\n",
              "      <td>3</td>\n",
              "      <td>폐업</td>\n",
              "      <td>2</td>\n",
              "      <td>...</td>\n",
              "      <td>0.0</td>\n",
              "      <td>NaN</td>\n",
              "      <td>0.0</td>\n",
              "      <td>0.0</td>\n",
              "      <td>N</td>\n",
              "      <td>0.0</td>\n",
              "      <td>NaN</td>\n",
              "      <td>NaN</td>\n",
              "      <td>NaN</td>\n",
              "      <td>NaN</td>\n",
              "    </tr>\n",
              "    <tr>\n",
              "      <th>1</th>\n",
              "      <td>2</td>\n",
              "      <td>일반음식점</td>\n",
              "      <td>07_24_04_P</td>\n",
              "      <td>4710000</td>\n",
              "      <td>4710000-101-2023-00096</td>\n",
              "      <td>2023-09-22</td>\n",
              "      <td>NaN</td>\n",
              "      <td>3</td>\n",
              "      <td>폐업</td>\n",
              "      <td>2</td>\n",
              "      <td>...</td>\n",
              "      <td>0.0</td>\n",
              "      <td>NaN</td>\n",
              "      <td>0.0</td>\n",
              "      <td>0.0</td>\n",
              "      <td>N</td>\n",
              "      <td>9.0</td>\n",
              "      <td>NaN</td>\n",
              "      <td>NaN</td>\n",
              "      <td>NaN</td>\n",
              "      <td>NaN</td>\n",
              "    </tr>\n",
              "    <tr>\n",
              "      <th>2</th>\n",
              "      <td>3</td>\n",
              "      <td>일반음식점</td>\n",
              "      <td>07_24_04_P</td>\n",
              "      <td>3740000</td>\n",
              "      <td>3770000-101-2023-00341</td>\n",
              "      <td>2023-09-22</td>\n",
              "      <td>NaN</td>\n",
              "      <td>3</td>\n",
              "      <td>폐업</td>\n",
              "      <td>2</td>\n",
              "      <td>...</td>\n",
              "      <td>0.0</td>\n",
              "      <td>NaN</td>\n",
              "      <td>0.0</td>\n",
              "      <td>0.0</td>\n",
              "      <td>N</td>\n",
              "      <td>0.0</td>\n",
              "      <td>NaN</td>\n",
              "      <td>NaN</td>\n",
              "      <td>NaN</td>\n",
              "      <td>NaN</td>\n",
              "    </tr>\n",
              "    <tr>\n",
              "      <th>3</th>\n",
              "      <td>4</td>\n",
              "      <td>일반음식점</td>\n",
              "      <td>07_24_04_P</td>\n",
              "      <td>3740000</td>\n",
              "      <td>3770000-101-2023-00339</td>\n",
              "      <td>2023-09-22</td>\n",
              "      <td>NaN</td>\n",
              "      <td>3</td>\n",
              "      <td>폐업</td>\n",
              "      <td>2</td>\n",
              "      <td>...</td>\n",
              "      <td>0.0</td>\n",
              "      <td>NaN</td>\n",
              "      <td>0.0</td>\n",
              "      <td>0.0</td>\n",
              "      <td>N</td>\n",
              "      <td>0.0</td>\n",
              "      <td>NaN</td>\n",
              "      <td>NaN</td>\n",
              "      <td>NaN</td>\n",
              "      <td>NaN</td>\n",
              "    </tr>\n",
              "    <tr>\n",
              "      <th>4</th>\n",
              "      <td>5</td>\n",
              "      <td>일반음식점</td>\n",
              "      <td>07_24_04_P</td>\n",
              "      <td>4221000</td>\n",
              "      <td>4221000-101-2023-00058</td>\n",
              "      <td>2023-09-22</td>\n",
              "      <td>NaN</td>\n",
              "      <td>3</td>\n",
              "      <td>폐업</td>\n",
              "      <td>2</td>\n",
              "      <td>...</td>\n",
              "      <td>0.0</td>\n",
              "      <td>NaN</td>\n",
              "      <td>0.0</td>\n",
              "      <td>0.0</td>\n",
              "      <td>N</td>\n",
              "      <td>0.0</td>\n",
              "      <td>NaN</td>\n",
              "      <td>NaN</td>\n",
              "      <td>NaN</td>\n",
              "      <td>NaN</td>\n",
              "    </tr>\n",
              "  </tbody>\n",
              "</table>\n",
              "<p>5 rows × 48 columns</p>\n",
              "</div>\n",
              "    <div class=\"colab-df-buttons\">\n",
              "\n",
              "  <div class=\"colab-df-container\">\n",
              "    <button class=\"colab-df-convert\" onclick=\"convertToInteractive('df-68b314a1-a293-4420-b38e-52480d92b6e4')\"\n",
              "            title=\"Convert this dataframe to an interactive table.\"\n",
              "            style=\"display:none;\">\n",
              "\n",
              "  <svg xmlns=\"http://www.w3.org/2000/svg\" height=\"24px\" viewBox=\"0 -960 960 960\">\n",
              "    <path d=\"M120-120v-720h720v720H120Zm60-500h600v-160H180v160Zm220 220h160v-160H400v160Zm0 220h160v-160H400v160ZM180-400h160v-160H180v160Zm440 0h160v-160H620v160ZM180-180h160v-160H180v160Zm440 0h160v-160H620v160Z\"/>\n",
              "  </svg>\n",
              "    </button>\n",
              "\n",
              "  <style>\n",
              "    .colab-df-container {\n",
              "      display:flex;\n",
              "      gap: 12px;\n",
              "    }\n",
              "\n",
              "    .colab-df-convert {\n",
              "      background-color: #E8F0FE;\n",
              "      border: none;\n",
              "      border-radius: 50%;\n",
              "      cursor: pointer;\n",
              "      display: none;\n",
              "      fill: #1967D2;\n",
              "      height: 32px;\n",
              "      padding: 0 0 0 0;\n",
              "      width: 32px;\n",
              "    }\n",
              "\n",
              "    .colab-df-convert:hover {\n",
              "      background-color: #E2EBFA;\n",
              "      box-shadow: 0px 1px 2px rgba(60, 64, 67, 0.3), 0px 1px 3px 1px rgba(60, 64, 67, 0.15);\n",
              "      fill: #174EA6;\n",
              "    }\n",
              "\n",
              "    .colab-df-buttons div {\n",
              "      margin-bottom: 4px;\n",
              "    }\n",
              "\n",
              "    [theme=dark] .colab-df-convert {\n",
              "      background-color: #3B4455;\n",
              "      fill: #D2E3FC;\n",
              "    }\n",
              "\n",
              "    [theme=dark] .colab-df-convert:hover {\n",
              "      background-color: #434B5C;\n",
              "      box-shadow: 0px 1px 3px 1px rgba(0, 0, 0, 0.15);\n",
              "      filter: drop-shadow(0px 1px 2px rgba(0, 0, 0, 0.3));\n",
              "      fill: #FFFFFF;\n",
              "    }\n",
              "  </style>\n",
              "\n",
              "    <script>\n",
              "      const buttonEl =\n",
              "        document.querySelector('#df-68b314a1-a293-4420-b38e-52480d92b6e4 button.colab-df-convert');\n",
              "      buttonEl.style.display =\n",
              "        google.colab.kernel.accessAllowed ? 'block' : 'none';\n",
              "\n",
              "      async function convertToInteractive(key) {\n",
              "        const element = document.querySelector('#df-68b314a1-a293-4420-b38e-52480d92b6e4');\n",
              "        const dataTable =\n",
              "          await google.colab.kernel.invokeFunction('convertToInteractive',\n",
              "                                                    [key], {});\n",
              "        if (!dataTable) return;\n",
              "\n",
              "        const docLinkHtml = 'Like what you see? Visit the ' +\n",
              "          '<a target=\"_blank\" href=https://colab.research.google.com/notebooks/data_table.ipynb>data table notebook</a>'\n",
              "          + ' to learn more about interactive tables.';\n",
              "        element.innerHTML = '';\n",
              "        dataTable['output_type'] = 'display_data';\n",
              "        await google.colab.output.renderOutput(dataTable, element);\n",
              "        const docLink = document.createElement('div');\n",
              "        docLink.innerHTML = docLinkHtml;\n",
              "        element.appendChild(docLink);\n",
              "      }\n",
              "    </script>\n",
              "  </div>\n",
              "\n",
              "\n",
              "<div id=\"df-2371eb2e-effb-4108-aa0b-a3a2b265daef\">\n",
              "  <button class=\"colab-df-quickchart\" onclick=\"quickchart('df-2371eb2e-effb-4108-aa0b-a3a2b265daef')\"\n",
              "            title=\"Suggest charts\"\n",
              "            style=\"display:none;\">\n",
              "\n",
              "<svg xmlns=\"http://www.w3.org/2000/svg\" height=\"24px\"viewBox=\"0 0 24 24\"\n",
              "     width=\"24px\">\n",
              "    <g>\n",
              "        <path d=\"M19 3H5c-1.1 0-2 .9-2 2v14c0 1.1.9 2 2 2h14c1.1 0 2-.9 2-2V5c0-1.1-.9-2-2-2zM9 17H7v-7h2v7zm4 0h-2V7h2v10zm4 0h-2v-4h2v4z\"/>\n",
              "    </g>\n",
              "</svg>\n",
              "  </button>\n",
              "\n",
              "<style>\n",
              "  .colab-df-quickchart {\n",
              "      --bg-color: #E8F0FE;\n",
              "      --fill-color: #1967D2;\n",
              "      --hover-bg-color: #E2EBFA;\n",
              "      --hover-fill-color: #174EA6;\n",
              "      --disabled-fill-color: #AAA;\n",
              "      --disabled-bg-color: #DDD;\n",
              "  }\n",
              "\n",
              "  [theme=dark] .colab-df-quickchart {\n",
              "      --bg-color: #3B4455;\n",
              "      --fill-color: #D2E3FC;\n",
              "      --hover-bg-color: #434B5C;\n",
              "      --hover-fill-color: #FFFFFF;\n",
              "      --disabled-bg-color: #3B4455;\n",
              "      --disabled-fill-color: #666;\n",
              "  }\n",
              "\n",
              "  .colab-df-quickchart {\n",
              "    background-color: var(--bg-color);\n",
              "    border: none;\n",
              "    border-radius: 50%;\n",
              "    cursor: pointer;\n",
              "    display: none;\n",
              "    fill: var(--fill-color);\n",
              "    height: 32px;\n",
              "    padding: 0;\n",
              "    width: 32px;\n",
              "  }\n",
              "\n",
              "  .colab-df-quickchart:hover {\n",
              "    background-color: var(--hover-bg-color);\n",
              "    box-shadow: 0 1px 2px rgba(60, 64, 67, 0.3), 0 1px 3px 1px rgba(60, 64, 67, 0.15);\n",
              "    fill: var(--button-hover-fill-color);\n",
              "  }\n",
              "\n",
              "  .colab-df-quickchart-complete:disabled,\n",
              "  .colab-df-quickchart-complete:disabled:hover {\n",
              "    background-color: var(--disabled-bg-color);\n",
              "    fill: var(--disabled-fill-color);\n",
              "    box-shadow: none;\n",
              "  }\n",
              "\n",
              "  .colab-df-spinner {\n",
              "    border: 2px solid var(--fill-color);\n",
              "    border-color: transparent;\n",
              "    border-bottom-color: var(--fill-color);\n",
              "    animation:\n",
              "      spin 1s steps(1) infinite;\n",
              "  }\n",
              "\n",
              "  @keyframes spin {\n",
              "    0% {\n",
              "      border-color: transparent;\n",
              "      border-bottom-color: var(--fill-color);\n",
              "      border-left-color: var(--fill-color);\n",
              "    }\n",
              "    20% {\n",
              "      border-color: transparent;\n",
              "      border-left-color: var(--fill-color);\n",
              "      border-top-color: var(--fill-color);\n",
              "    }\n",
              "    30% {\n",
              "      border-color: transparent;\n",
              "      border-left-color: var(--fill-color);\n",
              "      border-top-color: var(--fill-color);\n",
              "      border-right-color: var(--fill-color);\n",
              "    }\n",
              "    40% {\n",
              "      border-color: transparent;\n",
              "      border-right-color: var(--fill-color);\n",
              "      border-top-color: var(--fill-color);\n",
              "    }\n",
              "    60% {\n",
              "      border-color: transparent;\n",
              "      border-right-color: var(--fill-color);\n",
              "    }\n",
              "    80% {\n",
              "      border-color: transparent;\n",
              "      border-right-color: var(--fill-color);\n",
              "      border-bottom-color: var(--fill-color);\n",
              "    }\n",
              "    90% {\n",
              "      border-color: transparent;\n",
              "      border-bottom-color: var(--fill-color);\n",
              "    }\n",
              "  }\n",
              "</style>\n",
              "\n",
              "  <script>\n",
              "    async function quickchart(key) {\n",
              "      const quickchartButtonEl =\n",
              "        document.querySelector('#' + key + ' button');\n",
              "      quickchartButtonEl.disabled = true;  // To prevent multiple clicks.\n",
              "      quickchartButtonEl.classList.add('colab-df-spinner');\n",
              "      try {\n",
              "        const charts = await google.colab.kernel.invokeFunction(\n",
              "            'suggestCharts', [key], {});\n",
              "      } catch (error) {\n",
              "        console.error('Error during call to suggestCharts:', error);\n",
              "      }\n",
              "      quickchartButtonEl.classList.remove('colab-df-spinner');\n",
              "      quickchartButtonEl.classList.add('colab-df-quickchart-complete');\n",
              "    }\n",
              "    (() => {\n",
              "      let quickchartButtonEl =\n",
              "        document.querySelector('#df-2371eb2e-effb-4108-aa0b-a3a2b265daef button');\n",
              "      quickchartButtonEl.style.display =\n",
              "        google.colab.kernel.accessAllowed ? 'block' : 'none';\n",
              "    })();\n",
              "  </script>\n",
              "</div>\n",
              "\n",
              "    </div>\n",
              "  </div>\n"
            ]
          },
          "metadata": {},
          "execution_count": 4
        }
      ]
    },
    {
      "cell_type": "code",
      "source": [
        "merged_df['인허가일자'] = pd.to_datetime(merged_df['인허가일자'], errors='coerce')\n",
        "merged_df['년월'] = merged_df['인허가일자'].dt.to_period('M')"
      ],
      "metadata": {
        "id": "Pb-g1T5VB12Z"
      },
      "execution_count": 5,
      "outputs": []
    },
    {
      "cell_type": "markdown",
      "source": [
        "## 스테디 아이템 폐업률\n",
        "    - 누적 폐업률: (일자별 누적 폐업 가게 수 / 일자별 누적 개업 가게 수)*100"
      ],
      "metadata": {
        "id": "zjdBe-NVCX3K"
      }
    },
    {
      "cell_type": "markdown",
      "source": [
        "### 설빙"
      ],
      "metadata": {
        "id": "ppXuI-y1CjmZ"
      }
    },
    {
      "cell_type": "code",
      "source": [
        "name_df = merged_df[merged_df['사업장명'].str.contains('설빙', na=False)]\n",
        "name_df = name_df[name_df['년월'] >= '2010-01'] # 1호점 개업 날짜"
      ],
      "metadata": {
        "id": "9z-3cJHjFa6q"
      },
      "execution_count": 88,
      "outputs": []
    },
    {
      "cell_type": "code",
      "source": [
        "def closure_rate_df(merged_df, start_date):\n",
        "    # 인허가 일자를 기준으로 월별 개수를 계산\n",
        "    merged_df['인허가일자'] = pd.to_datetime(merged_df['인허가일자'], errors='coerce')\n",
        "    license_counts = merged_df['인허가일자'].dt.to_period('M').value_counts().sort_index()\n",
        "\n",
        "    # 폐업 일자를 기준으로 월별 개수를 계산\n",
        "    merged_df['폐업일자'] = pd.to_datetime(merged_df['폐업일자'], errors='coerce')\n",
        "    closure_counts = merged_df['폐업일자'].dt.to_period('M').value_counts().sort_index()\n",
        "\n",
        "    # 폐업률을 계산하기 위한 데이터프레임 생성\n",
        "    closure_rate_df = pd.DataFrame({\n",
        "        '누적 인허가 개수': license_counts.cumsum(),\n",
        "        '누적 폐업 개수': closure_counts.cumsum()\n",
        "    })\n",
        "\n",
        "    # '누적 폐업 개수' 열의 NaN 값을 이전 행의 값으로 채우기\n",
        "    closure_rate_df['누적 폐업 개수'] = closure_rate_df['누적 폐업 개수'].fillna(method='ffill')\n",
        "    closure_rate_df['누적 인허가 개수'] = closure_rate_df['누적 인허가 개수'].fillna(method='ffill')\n",
        "\n",
        "    # 누적 폐업률 계산 (누적 폐업 개수 / 누적 인허가 개수 * 100)\n",
        "    closure_rate_df['누적 폐업률'] = (closure_rate_df['누적 폐업 개수'] / closure_rate_df['누적 인허가 개수']) * 100\n",
        "\n",
        "    # 결과 출력\n",
        "    closure_rate_df.reset_index(inplace=True)\n",
        "    closure_rate_df.rename(columns={'index': '년월'}, inplace=True)\n",
        "\n",
        "    closure_rate_df = closure_rate_df[closure_rate_df['년월'] >= start_date] # 붐 시작 날짜\n",
        "\n",
        "    return closure_rate_df"
      ],
      "metadata": {
        "id": "53aracCsD4oq"
      },
      "execution_count": 64,
      "outputs": []
    },
    {
      "cell_type": "code",
      "source": [
        "closure_rate = closure_rate_df(name_df,'2014-07')"
      ],
      "metadata": {
        "id": "UeaJ9l_kFj1j"
      },
      "execution_count": 66,
      "outputs": []
    },
    {
      "cell_type": "code",
      "source": [
        "closure_rate.tail(10)"
      ],
      "metadata": {
        "colab": {
          "base_uri": "https://localhost:8080/",
          "height": 363
        },
        "id": "E52U974eQUmv",
        "outputId": "b7b34635-f43f-4ebd-a81f-262864877671"
      },
      "execution_count": 67,
      "outputs": [
        {
          "output_type": "execute_result",
          "data": {
            "text/plain": [
              "          년월  누적 인허가 개수  누적 폐업 개수     누적 폐업률\n",
              "137  2022-12      631.0     154.0  24.405705\n",
              "138  2023-01      635.0     156.0  24.566929\n",
              "139  2023-02      640.0     157.0  24.531250\n",
              "140  2023-03      643.0     158.0  24.572317\n",
              "141  2023-04      651.0     160.0  24.577573\n",
              "142  2023-05      655.0     160.0  24.427481\n",
              "143  2023-06      662.0     162.0  24.471299\n",
              "144  2023-07      665.0     164.0  24.661654\n",
              "145  2023-08      667.0     164.0  24.587706\n",
              "146  2023-09      668.0     164.0  24.550898"
            ],
            "text/html": [
              "\n",
              "  <div id=\"df-947ad1a9-93f2-4543-8e87-62c9052fd057\" class=\"colab-df-container\">\n",
              "    <div>\n",
              "<style scoped>\n",
              "    .dataframe tbody tr th:only-of-type {\n",
              "        vertical-align: middle;\n",
              "    }\n",
              "\n",
              "    .dataframe tbody tr th {\n",
              "        vertical-align: top;\n",
              "    }\n",
              "\n",
              "    .dataframe thead th {\n",
              "        text-align: right;\n",
              "    }\n",
              "</style>\n",
              "<table border=\"1\" class=\"dataframe\">\n",
              "  <thead>\n",
              "    <tr style=\"text-align: right;\">\n",
              "      <th></th>\n",
              "      <th>년월</th>\n",
              "      <th>누적 인허가 개수</th>\n",
              "      <th>누적 폐업 개수</th>\n",
              "      <th>누적 폐업률</th>\n",
              "    </tr>\n",
              "  </thead>\n",
              "  <tbody>\n",
              "    <tr>\n",
              "      <th>137</th>\n",
              "      <td>2022-12</td>\n",
              "      <td>631.0</td>\n",
              "      <td>154.0</td>\n",
              "      <td>24.405705</td>\n",
              "    </tr>\n",
              "    <tr>\n",
              "      <th>138</th>\n",
              "      <td>2023-01</td>\n",
              "      <td>635.0</td>\n",
              "      <td>156.0</td>\n",
              "      <td>24.566929</td>\n",
              "    </tr>\n",
              "    <tr>\n",
              "      <th>139</th>\n",
              "      <td>2023-02</td>\n",
              "      <td>640.0</td>\n",
              "      <td>157.0</td>\n",
              "      <td>24.531250</td>\n",
              "    </tr>\n",
              "    <tr>\n",
              "      <th>140</th>\n",
              "      <td>2023-03</td>\n",
              "      <td>643.0</td>\n",
              "      <td>158.0</td>\n",
              "      <td>24.572317</td>\n",
              "    </tr>\n",
              "    <tr>\n",
              "      <th>141</th>\n",
              "      <td>2023-04</td>\n",
              "      <td>651.0</td>\n",
              "      <td>160.0</td>\n",
              "      <td>24.577573</td>\n",
              "    </tr>\n",
              "    <tr>\n",
              "      <th>142</th>\n",
              "      <td>2023-05</td>\n",
              "      <td>655.0</td>\n",
              "      <td>160.0</td>\n",
              "      <td>24.427481</td>\n",
              "    </tr>\n",
              "    <tr>\n",
              "      <th>143</th>\n",
              "      <td>2023-06</td>\n",
              "      <td>662.0</td>\n",
              "      <td>162.0</td>\n",
              "      <td>24.471299</td>\n",
              "    </tr>\n",
              "    <tr>\n",
              "      <th>144</th>\n",
              "      <td>2023-07</td>\n",
              "      <td>665.0</td>\n",
              "      <td>164.0</td>\n",
              "      <td>24.661654</td>\n",
              "    </tr>\n",
              "    <tr>\n",
              "      <th>145</th>\n",
              "      <td>2023-08</td>\n",
              "      <td>667.0</td>\n",
              "      <td>164.0</td>\n",
              "      <td>24.587706</td>\n",
              "    </tr>\n",
              "    <tr>\n",
              "      <th>146</th>\n",
              "      <td>2023-09</td>\n",
              "      <td>668.0</td>\n",
              "      <td>164.0</td>\n",
              "      <td>24.550898</td>\n",
              "    </tr>\n",
              "  </tbody>\n",
              "</table>\n",
              "</div>\n",
              "    <div class=\"colab-df-buttons\">\n",
              "\n",
              "  <div class=\"colab-df-container\">\n",
              "    <button class=\"colab-df-convert\" onclick=\"convertToInteractive('df-947ad1a9-93f2-4543-8e87-62c9052fd057')\"\n",
              "            title=\"Convert this dataframe to an interactive table.\"\n",
              "            style=\"display:none;\">\n",
              "\n",
              "  <svg xmlns=\"http://www.w3.org/2000/svg\" height=\"24px\" viewBox=\"0 -960 960 960\">\n",
              "    <path d=\"M120-120v-720h720v720H120Zm60-500h600v-160H180v160Zm220 220h160v-160H400v160Zm0 220h160v-160H400v160ZM180-400h160v-160H180v160Zm440 0h160v-160H620v160ZM180-180h160v-160H180v160Zm440 0h160v-160H620v160Z\"/>\n",
              "  </svg>\n",
              "    </button>\n",
              "\n",
              "  <style>\n",
              "    .colab-df-container {\n",
              "      display:flex;\n",
              "      gap: 12px;\n",
              "    }\n",
              "\n",
              "    .colab-df-convert {\n",
              "      background-color: #E8F0FE;\n",
              "      border: none;\n",
              "      border-radius: 50%;\n",
              "      cursor: pointer;\n",
              "      display: none;\n",
              "      fill: #1967D2;\n",
              "      height: 32px;\n",
              "      padding: 0 0 0 0;\n",
              "      width: 32px;\n",
              "    }\n",
              "\n",
              "    .colab-df-convert:hover {\n",
              "      background-color: #E2EBFA;\n",
              "      box-shadow: 0px 1px 2px rgba(60, 64, 67, 0.3), 0px 1px 3px 1px rgba(60, 64, 67, 0.15);\n",
              "      fill: #174EA6;\n",
              "    }\n",
              "\n",
              "    .colab-df-buttons div {\n",
              "      margin-bottom: 4px;\n",
              "    }\n",
              "\n",
              "    [theme=dark] .colab-df-convert {\n",
              "      background-color: #3B4455;\n",
              "      fill: #D2E3FC;\n",
              "    }\n",
              "\n",
              "    [theme=dark] .colab-df-convert:hover {\n",
              "      background-color: #434B5C;\n",
              "      box-shadow: 0px 1px 3px 1px rgba(0, 0, 0, 0.15);\n",
              "      filter: drop-shadow(0px 1px 2px rgba(0, 0, 0, 0.3));\n",
              "      fill: #FFFFFF;\n",
              "    }\n",
              "  </style>\n",
              "\n",
              "    <script>\n",
              "      const buttonEl =\n",
              "        document.querySelector('#df-947ad1a9-93f2-4543-8e87-62c9052fd057 button.colab-df-convert');\n",
              "      buttonEl.style.display =\n",
              "        google.colab.kernel.accessAllowed ? 'block' : 'none';\n",
              "\n",
              "      async function convertToInteractive(key) {\n",
              "        const element = document.querySelector('#df-947ad1a9-93f2-4543-8e87-62c9052fd057');\n",
              "        const dataTable =\n",
              "          await google.colab.kernel.invokeFunction('convertToInteractive',\n",
              "                                                    [key], {});\n",
              "        if (!dataTable) return;\n",
              "\n",
              "        const docLinkHtml = 'Like what you see? Visit the ' +\n",
              "          '<a target=\"_blank\" href=https://colab.research.google.com/notebooks/data_table.ipynb>data table notebook</a>'\n",
              "          + ' to learn more about interactive tables.';\n",
              "        element.innerHTML = '';\n",
              "        dataTable['output_type'] = 'display_data';\n",
              "        await google.colab.output.renderOutput(dataTable, element);\n",
              "        const docLink = document.createElement('div');\n",
              "        docLink.innerHTML = docLinkHtml;\n",
              "        element.appendChild(docLink);\n",
              "      }\n",
              "    </script>\n",
              "  </div>\n",
              "\n",
              "\n",
              "<div id=\"df-b0f1bebe-2642-4e3f-8417-2feb16eeb481\">\n",
              "  <button class=\"colab-df-quickchart\" onclick=\"quickchart('df-b0f1bebe-2642-4e3f-8417-2feb16eeb481')\"\n",
              "            title=\"Suggest charts\"\n",
              "            style=\"display:none;\">\n",
              "\n",
              "<svg xmlns=\"http://www.w3.org/2000/svg\" height=\"24px\"viewBox=\"0 0 24 24\"\n",
              "     width=\"24px\">\n",
              "    <g>\n",
              "        <path d=\"M19 3H5c-1.1 0-2 .9-2 2v14c0 1.1.9 2 2 2h14c1.1 0 2-.9 2-2V5c0-1.1-.9-2-2-2zM9 17H7v-7h2v7zm4 0h-2V7h2v10zm4 0h-2v-4h2v4z\"/>\n",
              "    </g>\n",
              "</svg>\n",
              "  </button>\n",
              "\n",
              "<style>\n",
              "  .colab-df-quickchart {\n",
              "      --bg-color: #E8F0FE;\n",
              "      --fill-color: #1967D2;\n",
              "      --hover-bg-color: #E2EBFA;\n",
              "      --hover-fill-color: #174EA6;\n",
              "      --disabled-fill-color: #AAA;\n",
              "      --disabled-bg-color: #DDD;\n",
              "  }\n",
              "\n",
              "  [theme=dark] .colab-df-quickchart {\n",
              "      --bg-color: #3B4455;\n",
              "      --fill-color: #D2E3FC;\n",
              "      --hover-bg-color: #434B5C;\n",
              "      --hover-fill-color: #FFFFFF;\n",
              "      --disabled-bg-color: #3B4455;\n",
              "      --disabled-fill-color: #666;\n",
              "  }\n",
              "\n",
              "  .colab-df-quickchart {\n",
              "    background-color: var(--bg-color);\n",
              "    border: none;\n",
              "    border-radius: 50%;\n",
              "    cursor: pointer;\n",
              "    display: none;\n",
              "    fill: var(--fill-color);\n",
              "    height: 32px;\n",
              "    padding: 0;\n",
              "    width: 32px;\n",
              "  }\n",
              "\n",
              "  .colab-df-quickchart:hover {\n",
              "    background-color: var(--hover-bg-color);\n",
              "    box-shadow: 0 1px 2px rgba(60, 64, 67, 0.3), 0 1px 3px 1px rgba(60, 64, 67, 0.15);\n",
              "    fill: var(--button-hover-fill-color);\n",
              "  }\n",
              "\n",
              "  .colab-df-quickchart-complete:disabled,\n",
              "  .colab-df-quickchart-complete:disabled:hover {\n",
              "    background-color: var(--disabled-bg-color);\n",
              "    fill: var(--disabled-fill-color);\n",
              "    box-shadow: none;\n",
              "  }\n",
              "\n",
              "  .colab-df-spinner {\n",
              "    border: 2px solid var(--fill-color);\n",
              "    border-color: transparent;\n",
              "    border-bottom-color: var(--fill-color);\n",
              "    animation:\n",
              "      spin 1s steps(1) infinite;\n",
              "  }\n",
              "\n",
              "  @keyframes spin {\n",
              "    0% {\n",
              "      border-color: transparent;\n",
              "      border-bottom-color: var(--fill-color);\n",
              "      border-left-color: var(--fill-color);\n",
              "    }\n",
              "    20% {\n",
              "      border-color: transparent;\n",
              "      border-left-color: var(--fill-color);\n",
              "      border-top-color: var(--fill-color);\n",
              "    }\n",
              "    30% {\n",
              "      border-color: transparent;\n",
              "      border-left-color: var(--fill-color);\n",
              "      border-top-color: var(--fill-color);\n",
              "      border-right-color: var(--fill-color);\n",
              "    }\n",
              "    40% {\n",
              "      border-color: transparent;\n",
              "      border-right-color: var(--fill-color);\n",
              "      border-top-color: var(--fill-color);\n",
              "    }\n",
              "    60% {\n",
              "      border-color: transparent;\n",
              "      border-right-color: var(--fill-color);\n",
              "    }\n",
              "    80% {\n",
              "      border-color: transparent;\n",
              "      border-right-color: var(--fill-color);\n",
              "      border-bottom-color: var(--fill-color);\n",
              "    }\n",
              "    90% {\n",
              "      border-color: transparent;\n",
              "      border-bottom-color: var(--fill-color);\n",
              "    }\n",
              "  }\n",
              "</style>\n",
              "\n",
              "  <script>\n",
              "    async function quickchart(key) {\n",
              "      const quickchartButtonEl =\n",
              "        document.querySelector('#' + key + ' button');\n",
              "      quickchartButtonEl.disabled = true;  // To prevent multiple clicks.\n",
              "      quickchartButtonEl.classList.add('colab-df-spinner');\n",
              "      try {\n",
              "        const charts = await google.colab.kernel.invokeFunction(\n",
              "            'suggestCharts', [key], {});\n",
              "      } catch (error) {\n",
              "        console.error('Error during call to suggestCharts:', error);\n",
              "      }\n",
              "      quickchartButtonEl.classList.remove('colab-df-spinner');\n",
              "      quickchartButtonEl.classList.add('colab-df-quickchart-complete');\n",
              "    }\n",
              "    (() => {\n",
              "      let quickchartButtonEl =\n",
              "        document.querySelector('#df-b0f1bebe-2642-4e3f-8417-2feb16eeb481 button');\n",
              "      quickchartButtonEl.style.display =\n",
              "        google.colab.kernel.accessAllowed ? 'block' : 'none';\n",
              "    })();\n",
              "  </script>\n",
              "</div>\n",
              "\n",
              "    </div>\n",
              "  </div>\n"
            ]
          },
          "metadata": {},
          "execution_count": 67
        }
      ]
    },
    {
      "cell_type": "code",
      "source": [
        "max_closure_rate_month = closure_rate[closure_rate['누적 폐업률'] == max(closure_rate['누적 폐업률'])]['년월']\n",
        "max_closure_rate_month"
      ],
      "metadata": {
        "colab": {
          "base_uri": "https://localhost:8080/"
        },
        "id": "KVo_53YoIX7x",
        "outputId": "9f5ad9c6-3cec-471f-903d-162c73213b14"
      },
      "execution_count": 68,
      "outputs": [
        {
          "output_type": "execute_result",
          "data": {
            "text/plain": [
              "144    2023-07\n",
              "Name: 년월, dtype: period[M]"
            ]
          },
          "metadata": {},
          "execution_count": 68
        }
      ]
    },
    {
      "cell_type": "code",
      "source": [
        "import matplotlib.pyplot as plt\n",
        "\n",
        "plt.rcParams['font.family'] = 'NanumBarunGothic'  # 한글 폰트 설정\n",
        "\n",
        "# 바 플롯 그리기\n",
        "plt.figure(figsize=(18, 3))  # 그래프 크기 설정\n",
        "plt.bar(closure_rate['년월'].dt.strftime('%Y-%m'), closure_rate['누적 폐업률'])\n",
        "\n",
        "# 축 레이블 및 제목 설정\n",
        "plt.xlabel('년월')\n",
        "plt.ylabel('누적 폐업률 (%)')\n",
        "plt.title('설빙 누적 폐업률')\n",
        "\n",
        "# 플롯 표시\n",
        "plt.xticks(rotation=90, fontsize=8)  # x축 레이블 회전\n",
        "plt.show()"
      ],
      "metadata": {
        "colab": {
          "base_uri": "https://localhost:8080/",
          "height": 364
        },
        "id": "uZhPjByMIhwf",
        "outputId": "f7d4d508-5b7f-41c0-8404-a212f3539bd3"
      },
      "execution_count": 69,
      "outputs": [
        {
          "output_type": "display_data",
          "data": {
            "text/plain": [
              "<Figure size 1800x300 with 1 Axes>"
            ],
            "image/png": "[encoded data removed]"
          },
          "metadata": {}
        }
      ]
    },
    {
      "cell_type": "markdown",
      "source": [
        "### 공차"
      ],
      "metadata": {
        "id": "2JFcXn4CJt1v"
      }
    },
    {
      "cell_type": "code",
      "source": [
        "name_df = merged_df[merged_df['사업장명'].str.contains('공차', na=False)]\n",
        "name_df = name_df[name_df['년월'] >= '2012-04'] # 1호점 개업 날짜\n",
        "\n",
        "closure_rate = closure_rate_df(name_df, '2014-04')\n",
        "closure_rate.fillna(0, inplace=True)\n",
        "max_closure_rate_month = closure_rate[closure_rate['누적 폐업률'] == max(closure_rate['누적 폐업률'])]['년월']\n",
        "print(\"누적 폐업률 최대값\",max(closure_rate['누적 폐업률']))\n",
        "print(\"누적 폐업률 최대인 년월\",max_closure_rate_month)\n",
        "\n",
        "# 그래프 그리기\n",
        "plt.figure(figsize=(18, 3))  # 그래프 크기 설정\n",
        "plt.bar(closure_rate['년월'].dt.strftime('%Y-%m'), closure_rate['누적 폐업률'])\n",
        "\n",
        "# 축 레이블 및 제목 설정\n",
        "plt.xlabel('년월')\n",
        "plt.ylabel('누적 폐업률 (%)')\n",
        "plt.title('공차 누적 폐업률')\n",
        "\n",
        "# 플롯 표시\n",
        "plt.xticks(rotation=90, fontsize=8)  # x축 레이블 회전\n",
        "plt.show()"
      ],
      "metadata": {
        "colab": {
          "base_uri": "https://localhost:8080/",
          "height": 419
        },
        "id": "78Dq2t3AJqCR",
        "outputId": "510212f5-01f1-4e70-fa07-7ff359166182"
      },
      "execution_count": 99,
      "outputs": [
        {
          "output_type": "stream",
          "name": "stdout",
          "text": [
            "누적 폐업률 최대값 20.903954802259886\n",
            "누적 폐업률 최대인 년월 71    2018-09\n",
            "Name: 년월, dtype: period[M]\n"
          ]
        },
        {
          "output_type": "display_data",
          "data": {
            "text/plain": [
              "<Figure size 1800x300 with 1 Axes>"
            ],
            "image/png": "[encoded data removed]"
          },
          "metadata": {}
        }
      ]
    },
    {
      "cell_type": "code",
      "source": [
        "closure_rate"
      ],
      "metadata": {
        "colab": {
          "base_uri": "https://localhost:8080/",
          "height": 424
        },
        "id": "kZGVR1_tQvRF",
        "outputId": "5ac7acbe-1d98-4678-ade2-d5acef1aafd5"
      },
      "execution_count": 74,
      "outputs": [
        {
          "output_type": "execute_result",
          "data": {
            "text/plain": [
              "          년월  누적 인허가 개수  누적 폐업 개수     누적 폐업률\n",
              "19   2014-04        174       0.0   0.000000\n",
              "20   2014-05        185       0.0   0.000000\n",
              "21   2014-06        197       1.0   0.507614\n",
              "22   2014-07        210       1.0   0.476190\n",
              "23   2014-08        219       1.0   0.456621\n",
              "..       ...        ...       ...        ...\n",
              "128  2023-06       1087     211.0  19.411224\n",
              "129  2023-07       1094     214.0  19.561243\n",
              "130  2023-08       1097     219.0  19.963537\n",
              "131  2023-09       1106     220.0  19.891501\n",
              "132  2023-10       1111     224.0  20.162016\n",
              "\n",
              "[114 rows x 4 columns]"
            ],
            "text/html": [
              "\n",
              "  <div id=\"df-7d989534-b862-4246-bec6-5d7039a1ee35\" class=\"colab-df-container\">\n",
              "    <div>\n",
              "<style scoped>\n",
              "    .dataframe tbody tr th:only-of-type {\n",
              "        vertical-align: middle;\n",
              "    }\n",
              "\n",
              "    .dataframe tbody tr th {\n",
              "        vertical-align: top;\n",
              "    }\n",
              "\n",
              "    .dataframe thead th {\n",
              "        text-align: right;\n",
              "    }\n",
              "</style>\n",
              "<table border=\"1\" class=\"dataframe\">\n",
              "  <thead>\n",
              "    <tr style=\"text-align: right;\">\n",
              "      <th></th>\n",
              "      <th>년월</th>\n",
              "      <th>누적 인허가 개수</th>\n",
              "      <th>누적 폐업 개수</th>\n",
              "      <th>누적 폐업률</th>\n",
              "    </tr>\n",
              "  </thead>\n",
              "  <tbody>\n",
              "    <tr>\n",
              "      <th>19</th>\n",
              "      <td>2014-04</td>\n",
              "      <td>174</td>\n",
              "      <td>0.0</td>\n",
              "      <td>0.000000</td>\n",
              "    </tr>\n",
              "    <tr>\n",
              "      <th>20</th>\n",
              "      <td>2014-05</td>\n",
              "      <td>185</td>\n",
              "      <td>0.0</td>\n",
              "      <td>0.000000</td>\n",
              "    </tr>\n",
              "    <tr>\n",
              "      <th>21</th>\n",
              "      <td>2014-06</td>\n",
              "      <td>197</td>\n",
              "      <td>1.0</td>\n",
              "      <td>0.507614</td>\n",
              "    </tr>\n",
              "    <tr>\n",
              "      <th>22</th>\n",
              "      <td>2014-07</td>\n",
              "      <td>210</td>\n",
              "      <td>1.0</td>\n",
              "      <td>0.476190</td>\n",
              "    </tr>\n",
              "    <tr>\n",
              "      <th>23</th>\n",
              "      <td>2014-08</td>\n",
              "      <td>219</td>\n",
              "      <td>1.0</td>\n",
              "      <td>0.456621</td>\n",
              "    </tr>\n",
              "    <tr>\n",
              "      <th>...</th>\n",
              "      <td>...</td>\n",
              "      <td>...</td>\n",
              "      <td>...</td>\n",
              "      <td>...</td>\n",
              "    </tr>\n",
              "    <tr>\n",
              "      <th>128</th>\n",
              "      <td>2023-06</td>\n",
              "      <td>1087</td>\n",
              "      <td>211.0</td>\n",
              "      <td>19.411224</td>\n",
              "    </tr>\n",
              "    <tr>\n",
              "      <th>129</th>\n",
              "      <td>2023-07</td>\n",
              "      <td>1094</td>\n",
              "      <td>214.0</td>\n",
              "      <td>19.561243</td>\n",
              "    </tr>\n",
              "    <tr>\n",
              "      <th>130</th>\n",
              "      <td>2023-08</td>\n",
              "      <td>1097</td>\n",
              "      <td>219.0</td>\n",
              "      <td>19.963537</td>\n",
              "    </tr>\n",
              "    <tr>\n",
              "      <th>131</th>\n",
              "      <td>2023-09</td>\n",
              "      <td>1106</td>\n",
              "      <td>220.0</td>\n",
              "      <td>19.891501</td>\n",
              "    </tr>\n",
              "    <tr>\n",
              "      <th>132</th>\n",
              "      <td>2023-10</td>\n",
              "      <td>1111</td>\n",
              "      <td>224.0</td>\n",
              "      <td>20.162016</td>\n",
              "    </tr>\n",
              "  </tbody>\n",
              "</table>\n",
              "<p>114 rows × 4 columns</p>\n",
              "</div>\n",
              "    <div class=\"colab-df-buttons\">\n",
              "\n",
              "  <div class=\"colab-df-container\">\n",
              "    <button class=\"colab-df-convert\" onclick=\"convertToInteractive('df-7d989534-b862-4246-bec6-5d7039a1ee35')\"\n",
              "            title=\"Convert this dataframe to an interactive table.\"\n",
              "            style=\"display:none;\">\n",
              "\n",
              "  <svg xmlns=\"http://www.w3.org/2000/svg\" height=\"24px\" viewBox=\"0 -960 960 960\">\n",
              "    <path d=\"M120-120v-720h720v720H120Zm60-500h600v-160H180v160Zm220 220h160v-160H400v160Zm0 220h160v-160H400v160ZM180-400h160v-160H180v160Zm440 0h160v-160H620v160ZM180-180h160v-160H180v160Zm440 0h160v-160H620v160Z\"/>\n",
              "  </svg>\n",
              "    </button>\n",
              "\n",
              "  <style>\n",
              "    .colab-df-container {\n",
              "      display:flex;\n",
              "      gap: 12px;\n",
              "    }\n",
              "\n",
              "    .colab-df-convert {\n",
              "      background-color: #E8F0FE;\n",
              "      border: none;\n",
              "      border-radius: 50%;\n",
              "      cursor: pointer;\n",
              "      display: none;\n",
              "      fill: #1967D2;\n",
              "      height: 32px;\n",
              "      padding: 0 0 0 0;\n",
              "      width: 32px;\n",
              "    }\n",
              "\n",
              "    .colab-df-convert:hover {\n",
              "      background-color: #E2EBFA;\n",
              "      box-shadow: 0px 1px 2px rgba(60, 64, 67, 0.3), 0px 1px 3px 1px rgba(60, 64, 67, 0.15);\n",
              "      fill: #174EA6;\n",
              "    }\n",
              "\n",
              "    .colab-df-buttons div {\n",
              "      margin-bottom: 4px;\n",
              "    }\n",
              "\n",
              "    [theme=dark] .colab-df-convert {\n",
              "      background-color: #3B4455;\n",
              "      fill: #D2E3FC;\n",
              "    }\n",
              "\n",
              "    [theme=dark] .colab-df-convert:hover {\n",
              "      background-color: #434B5C;\n",
              "      box-shadow: 0px 1px 3px 1px rgba(0, 0, 0, 0.15);\n",
              "      filter: drop-shadow(0px 1px 2px rgba(0, 0, 0, 0.3));\n",
              "      fill: #FFFFFF;\n",
              "    }\n",
              "  </style>\n",
              "\n",
              "    <script>\n",
              "      const buttonEl =\n",
              "        document.querySelector('#df-7d989534-b862-4246-bec6-5d7039a1ee35 button.colab-df-convert');\n",
              "      buttonEl.style.display =\n",
              "        google.colab.kernel.accessAllowed ? 'block' : 'none';\n",
              "\n",
              "      async function convertToInteractive(key) {\n",
              "        const element = document.querySelector('#df-7d989534-b862-4246-bec6-5d7039a1ee35');\n",
              "        const dataTable =\n",
              "          await google.colab.kernel.invokeFunction('convertToInteractive',\n",
              "                                                    [key], {});\n",
              "        if (!dataTable) return;\n",
              "\n",
              "        const docLinkHtml = 'Like what you see? Visit the ' +\n",
              "          '<a target=\"_blank\" href=https://colab.research.google.com/notebooks/data_table.ipynb>data table notebook</a>'\n",
              "          + ' to learn more about interactive tables.';\n",
              "        element.innerHTML = '';\n",
              "        dataTable['output_type'] = 'display_data';\n",
              "        await google.colab.output.renderOutput(dataTable, element);\n",
              "        const docLink = document.createElement('div');\n",
              "        docLink.innerHTML = docLinkHtml;\n",
              "        element.appendChild(docLink);\n",
              "      }\n",
              "    </script>\n",
              "  </div>\n",
              "\n",
              "\n",
              "<div id=\"df-ea8cb7d9-0e49-4a7d-8dcb-78d977771a17\">\n",
              "  <button class=\"colab-df-quickchart\" onclick=\"quickchart('df-ea8cb7d9-0e49-4a7d-8dcb-78d977771a17')\"\n",
              "            title=\"Suggest charts\"\n",
              "            style=\"display:none;\">\n",
              "\n",
              "<svg xmlns=\"http://www.w3.org/2000/svg\" height=\"24px\"viewBox=\"0 0 24 24\"\n",
              "     width=\"24px\">\n",
              "    <g>\n",
              "        <path d=\"M19 3H5c-1.1 0-2 .9-2 2v14c0 1.1.9 2 2 2h14c1.1 0 2-.9 2-2V5c0-1.1-.9-2-2-2zM9 17H7v-7h2v7zm4 0h-2V7h2v10zm4 0h-2v-4h2v4z\"/>\n",
              "    </g>\n",
              "</svg>\n",
              "  </button>\n",
              "\n",
              "<style>\n",
              "  .colab-df-quickchart {\n",
              "      --bg-color: #E8F0FE;\n",
              "      --fill-color: #1967D2;\n",
              "      --hover-bg-color: #E2EBFA;\n",
              "      --hover-fill-color: #174EA6;\n",
              "      --disabled-fill-color: #AAA;\n",
              "      --disabled-bg-color: #DDD;\n",
              "  }\n",
              "\n",
              "  [theme=dark] .colab-df-quickchart {\n",
              "      --bg-color: #3B4455;\n",
              "      --fill-color: #D2E3FC;\n",
              "      --hover-bg-color: #434B5C;\n",
              "      --hover-fill-color: #FFFFFF;\n",
              "      --disabled-bg-color: #3B4455;\n",
              "      --disabled-fill-color: #666;\n",
              "  }\n",
              "\n",
              "  .colab-df-quickchart {\n",
              "    background-color: var(--bg-color);\n",
              "    border: none;\n",
              "    border-radius: 50%;\n",
              "    cursor: pointer;\n",
              "    display: none;\n",
              "    fill: var(--fill-color);\n",
              "    height: 32px;\n",
              "    padding: 0;\n",
              "    width: 32px;\n",
              "  }\n",
              "\n",
              "  .colab-df-quickchart:hover {\n",
              "    background-color: var(--hover-bg-color);\n",
              "    box-shadow: 0 1px 2px rgba(60, 64, 67, 0.3), 0 1px 3px 1px rgba(60, 64, 67, 0.15);\n",
              "    fill: var(--button-hover-fill-color);\n",
              "  }\n",
              "\n",
              "  .colab-df-quickchart-complete:disabled,\n",
              "  .colab-df-quickchart-complete:disabled:hover {\n",
              "    background-color: var(--disabled-bg-color);\n",
              "    fill: var(--disabled-fill-color);\n",
              "    box-shadow: none;\n",
              "  }\n",
              "\n",
              "  .colab-df-spinner {\n",
              "    border: 2px solid var(--fill-color);\n",
              "    border-color: transparent;\n",
              "    border-bottom-color: var(--fill-color);\n",
              "    animation:\n",
              "      spin 1s steps(1) infinite;\n",
              "  }\n",
              "\n",
              "  @keyframes spin {\n",
              "    0% {\n",
              "      border-color: transparent;\n",
              "      border-bottom-color: var(--fill-color);\n",
              "      border-left-color: var(--fill-color);\n",
              "    }\n",
              "    20% {\n",
              "      border-color: transparent;\n",
              "      border-left-color: var(--fill-color);\n",
              "      border-top-color: var(--fill-color);\n",
              "    }\n",
              "    30% {\n",
              "      border-color: transparent;\n",
              "      border-left-color: var(--fill-color);\n",
              "      border-top-color: var(--fill-color);\n",
              "      border-right-color: var(--fill-color);\n",
              "    }\n",
              "    40% {\n",
              "      border-color: transparent;\n",
              "      border-right-color: var(--fill-color);\n",
              "      border-top-color: var(--fill-color);\n",
              "    }\n",
              "    60% {\n",
              "      border-color: transparent;\n",
              "      border-right-color: var(--fill-color);\n",
              "    }\n",
              "    80% {\n",
              "      border-color: transparent;\n",
              "      border-right-color: var(--fill-color);\n",
              "      border-bottom-color: var(--fill-color);\n",
              "    }\n",
              "    90% {\n",
              "      border-color: transparent;\n",
              "      border-bottom-color: var(--fill-color);\n",
              "    }\n",
              "  }\n",
              "</style>\n",
              "\n",
              "  <script>\n",
              "    async function quickchart(key) {\n",
              "      const quickchartButtonEl =\n",
              "        document.querySelector('#' + key + ' button');\n",
              "      quickchartButtonEl.disabled = true;  // To prevent multiple clicks.\n",
              "      quickchartButtonEl.classList.add('colab-df-spinner');\n",
              "      try {\n",
              "        const charts = await google.colab.kernel.invokeFunction(\n",
              "            'suggestCharts', [key], {});\n",
              "      } catch (error) {\n",
              "        console.error('Error during call to suggestCharts:', error);\n",
              "      }\n",
              "      quickchartButtonEl.classList.remove('colab-df-spinner');\n",
              "      quickchartButtonEl.classList.add('colab-df-quickchart-complete');\n",
              "    }\n",
              "    (() => {\n",
              "      let quickchartButtonEl =\n",
              "        document.querySelector('#df-ea8cb7d9-0e49-4a7d-8dcb-78d977771a17 button');\n",
              "      quickchartButtonEl.style.display =\n",
              "        google.colab.kernel.accessAllowed ? 'block' : 'none';\n",
              "    })();\n",
              "  </script>\n",
              "</div>\n",
              "\n",
              "  <div id=\"id_d39bd5fa-1a17-4763-a971-445f7b555db5\">\n",
              "    <style>\n",
              "      .colab-df-generate {\n",
              "        background-color: #E8F0FE;\n",
              "        border: none;\n",
              "        border-radius: 50%;\n",
              "        cursor: pointer;\n",
              "        display: none;\n",
              "        fill: #1967D2;\n",
              "        height: 32px;\n",
              "        padding: 0 0 0 0;\n",
              "        width: 32px;\n",
              "      }\n",
              "\n",
              "      .colab-df-generate:hover {\n",
              "        background-color: #E2EBFA;\n",
              "        box-shadow: 0px 1px 2px rgba(60, 64, 67, 0.3), 0px 1px 3px 1px rgba(60, 64, 67, 0.15);\n",
              "        fill: #174EA6;\n",
              "      }\n",
              "\n",
              "      [theme=dark] .colab-df-generate {\n",
              "        background-color: #3B4455;\n",
              "        fill: #D2E3FC;\n",
              "      }\n",
              "\n",
              "      [theme=dark] .colab-df-generate:hover {\n",
              "        background-color: #434B5C;\n",
              "        box-shadow: 0px 1px 3px 1px rgba(0, 0, 0, 0.15);\n",
              "        filter: drop-shadow(0px 1px 2px rgba(0, 0, 0, 0.3));\n",
              "        fill: #FFFFFF;\n",
              "      }\n",
              "    </style>\n",
              "    <button class=\"colab-df-generate\" onclick=\"generateWithVariable('closure_rate')\"\n",
              "            title=\"Generate code using this dataframe.\"\n",
              "            style=\"display:none;\">\n",
              "\n",
              "  <svg xmlns=\"http://www.w3.org/2000/svg\" height=\"24px\"viewBox=\"0 0 24 24\"\n",
              "       width=\"24px\">\n",
              "    <path d=\"M7,19H8.4L18.45,9,17,7.55,7,17.6ZM5,21V16.75L18.45,3.32a2,2,0,0,1,2.83,0l1.4,1.43a1.91,1.91,0,0,1,.58,1.4,1.91,1.91,0,0,1-.58,1.4L9.25,21ZM18.45,9,17,7.55Zm-12,3A5.31,5.31,0,0,0,4.9,8.1,5.31,5.31,0,0,0,1,6.5,5.31,5.31,0,0,0,4.9,4.9,5.31,5.31,0,0,0,6.5,1,5.31,5.31,0,0,0,8.1,4.9,5.31,5.31,0,0,0,12,6.5,5.46,5.46,0,0,0,6.5,12Z\"/>\n",
              "  </svg>\n",
              "    </button>\n",
              "    <script>\n",
              "      (() => {\n",
              "      const buttonEl =\n",
              "        document.querySelector('#id_d39bd5fa-1a17-4763-a971-445f7b555db5 button.colab-df-generate');\n",
              "      buttonEl.style.display =\n",
              "        google.colab.kernel.accessAllowed ? 'block' : 'none';\n",
              "\n",
              "      buttonEl.onclick = () => {\n",
              "        google.colab.notebook.generateWithVariable('closure_rate');\n",
              "      }\n",
              "      })();\n",
              "    </script>\n",
              "  </div>\n",
              "\n",
              "    </div>\n",
              "  </div>\n"
            ]
          },
          "metadata": {},
          "execution_count": 74
        }
      ]
    },
    {
      "cell_type": "markdown",
      "source": [
        "### 핫도그"
      ],
      "metadata": {
        "id": "y7U0nMvDMZu2"
      }
    },
    {
      "cell_type": "code",
      "source": [
        "name_df = merged_df[merged_df['사업장명'].str.contains('핫도그', na=False)]\n",
        "name_df = name_df[name_df['년월'] >= '2016-07'] # 1호점 개업 날짜\n",
        "\n",
        "closure_rate = closure_rate_df(name_df, '2017-03')\n",
        "closure_rate.fillna(0, inplace=True)\n",
        "max_closure_rate_month = closure_rate[closure_rate['누적 폐업률'] == max(closure_rate['누적 폐업률'])]['년월']\n",
        "print(\"누적 폐업률 최대값\",max(closure_rate['누적 폐업률']))\n",
        "print(\"누적 폐업률 최대인 년월\",max_closure_rate_month)\n",
        "\n",
        "# 그래프 그리기\n",
        "plt.figure(figsize=(18, 3))  # 그래프 크기 설정\n",
        "plt.bar(closure_rate['년월'].dt.strftime('%Y-%m'), closure_rate['누적 폐업률'])\n",
        "\n",
        "# 축 레이블 및 제목 설정\n",
        "plt.xlabel('년월')\n",
        "plt.ylabel('누적 폐업률 (%)')\n",
        "plt.title('명랑핫도그 누적 폐업률')\n",
        "\n",
        "# 플롯 표시\n",
        "plt.xticks(rotation=90, fontsize=8)  # x축 레이블 회전\n",
        "plt.show()"
      ],
      "metadata": {
        "colab": {
          "base_uri": "https://localhost:8080/",
          "height": 419
        },
        "id": "NWF8BIxmMeO4",
        "outputId": "68c27ece-72a1-4796-959b-868c1909fde3"
      },
      "execution_count": 100,
      "outputs": [
        {
          "output_type": "stream",
          "name": "stdout",
          "text": [
            "누적 폐업률 최대값 55.503634475597096\n",
            "누적 폐업률 최대인 년월 87    2023-10\n",
            "Name: 년월, dtype: period[M]\n"
          ]
        },
        {
          "output_type": "display_data",
          "data": {
            "text/plain": [
              "<Figure size 1800x300 with 1 Axes>"
            ],
            "image/png": "[encoded data removed]"
          },
          "metadata": {}
        }
      ]
    },
    {
      "cell_type": "code",
      "source": [
        "first_over_50 = closure_rate[closure_rate['누적 폐업률'] > 50]['년월'].iloc[0]\n",
        "print(\"누적 폐업률이 50을 넘은 첫번째 날:\", first_over_50)"
      ],
      "metadata": {
        "colab": {
          "base_uri": "https://localhost:8080/"
        },
        "id": "UR143UL4TfWN",
        "outputId": "5d07521b-c1de-4597-c135-2827ca62faa8"
      },
      "execution_count": 101,
      "outputs": [
        {
          "output_type": "stream",
          "name": "stdout",
          "text": [
            "누적 폐업률이 50을 넘은 첫번째 날: 2022-10\n"
          ]
        }
      ]
    },
    {
      "cell_type": "markdown",
      "source": [
        "### 엽떡"
      ],
      "metadata": {
        "id": "xeu2isBuM32X"
      }
    },
    {
      "cell_type": "code",
      "source": [
        "name_df = merged_df[merged_df['사업장명'].str.contains('엽기떡볶이', na=False)]\n",
        "name_df = name_df[name_df['년월'] >= '2009-01'] # 1호점 개업 날짜\n",
        "\n",
        "closure_rate = closure_rate_df(name_df, '2015-04')\n",
        "closure_rate.fillna(0, inplace=True)\n",
        "max_closure_rate_month = closure_rate[closure_rate['누적 폐업률'] == max(closure_rate['누적 폐업률'])]['년월']\n",
        "print(\"누적 폐업률 최대값\",max(closure_rate['누적 폐업률']))\n",
        "print(\"누적 폐업률 최대인 년월\",max_closure_rate_month)\n",
        "\n",
        "# 그래프 그리기\n",
        "plt.figure(figsize=(18, 3))  # 그래프 크기 설정\n",
        "plt.bar(closure_rate['년월'].dt.strftime('%Y-%m'), closure_rate['누적 폐업률'])\n",
        "\n",
        "# 축 레이블 및 제목 설정\n",
        "plt.xlabel('년월')\n",
        "plt.ylabel('누적 폐업률 (%)')\n",
        "plt.title('엽떡 누적 폐업률')\n",
        "\n",
        "# 플롯 표시\n",
        "plt.xticks(rotation=90, fontsize=8)  # x축 레이블 회전\n",
        "plt.show()"
      ],
      "metadata": {
        "colab": {
          "base_uri": "https://localhost:8080/",
          "height": 419
        },
        "id": "DpeebRZrM3W4",
        "outputId": "c12ace8a-63c9-49b3-970a-f8359a437cc6"
      },
      "execution_count": 103,
      "outputs": [
        {
          "output_type": "stream",
          "name": "stdout",
          "text": [
            "누적 폐업률 최대값 10.020449897750511\n",
            "누적 폐업률 최대인 년월 145    2022-08\n",
            "Name: 년월, dtype: period[M]\n"
          ]
        },
        {
          "output_type": "display_data",
          "data": {
            "text/plain": [
              "<Figure size 1800x300 with 1 Axes>"
            ],
            "image/png": "[encoded data removed]"
          },
          "metadata": {}
        }
      ]
    },
    {
      "cell_type": "markdown",
      "source": [
        "### 마라탕"
      ],
      "metadata": {
        "id": "qXh1CozQNQE2"
      }
    },
    {
      "cell_type": "code",
      "source": [
        "name_df = merged_df[merged_df['사업장명'].str.contains('마라탕', na=False)]\n",
        "name_df = name_df[name_df['년월'] >= '2015-01'] # 1호점 개업 날짜\n",
        "\n",
        "closure_rate = closure_rate_df(name_df, '2019-08')\n",
        "closure_rate.fillna(0, inplace=True)\n",
        "max_closure_rate_month = closure_rate[closure_rate['누적 폐업률'] == max(closure_rate['누적 폐업률'])]['년월']\n",
        "print(\"누적 폐업률 최대값\",max(closure_rate['누적 폐업률']))\n",
        "print(\"누적 폐업률 최대인 년월\",max_closure_rate_month)\n",
        "\n",
        "# 그래프 그리기\n",
        "plt.figure(figsize=(18, 3))  # 그래프 크기 설정\n",
        "plt.bar(closure_rate['년월'].dt.strftime('%Y-%m'), closure_rate['누적 폐업률'])\n",
        "\n",
        "# 축 레이블 및 제목 설정\n",
        "plt.xlabel('년월')\n",
        "plt.ylabel('누적 폐업률 (%)')\n",
        "plt.title('마라탕 누적 폐업률')\n",
        "\n",
        "# 플롯 표시\n",
        "plt.xticks(rotation=90, fontsize=8)  # x축 레이블 회전\n",
        "plt.show()"
      ],
      "metadata": {
        "colab": {
          "base_uri": "https://localhost:8080/",
          "height": 419
        },
        "id": "_cHFI6nsNSAO",
        "outputId": "1ce7c87c-3d79-4399-b3d2-c4a96de86e01"
      },
      "execution_count": 104,
      "outputs": [
        {
          "output_type": "stream",
          "name": "stdout",
          "text": [
            "누적 폐업률 최대값 14.715235617230412\n",
            "누적 폐업률 최대인 년월 105    2023-10\n",
            "Name: 년월, dtype: period[M]\n"
          ]
        },
        {
          "output_type": "display_data",
          "data": {
            "text/plain": [
              "<Figure size 1800x300 with 1 Axes>"
            ],
            "image/png": "[encoded data removed]"
          },
          "metadata": {}
        }
      ]
    },
    {
      "cell_type": "markdown",
      "source": [
        "## 트렌디 아이템 폐업률"
      ],
      "metadata": {
        "id": "vSt94uhmNgf1"
      }
    },
    {
      "cell_type": "markdown",
      "source": [
        "### 밥버거"
      ],
      "metadata": {
        "id": "vouAe5Z6Nnb_"
      }
    },
    {
      "cell_type": "code",
      "source": [
        "name_df = merged_df[merged_df['사업장명'].str.contains('밥버거', na=False)]\n",
        "name_df = name_df[name_df['년월'] >= '2011-01'] # 1호점 개업 날짜\n",
        "\n",
        "closure_rate = closure_rate_df(name_df, '2013-10')\n",
        "closure_rate.fillna(0, inplace=True)\n",
        "max_closure_rate_month = closure_rate[closure_rate['누적 폐업률'] == max(closure_rate['누적 폐업률'])]['년월']\n",
        "print(\"누적 폐업률 최대값\",max(closure_rate['누적 폐업률']))\n",
        "print(\"누적 폐업률 최대인 년월\",max_closure_rate_month)\n",
        "\n",
        "# 그래프 그리기\n",
        "plt.figure(figsize=(18, 3))  # 그래프 크기 설정\n",
        "plt.bar(closure_rate['년월'].dt.strftime('%Y-%m'), closure_rate['누적 폐업률'])\n",
        "\n",
        "# 축 레이블 및 제목 설정\n",
        "plt.xlabel('년월')\n",
        "plt.ylabel('누적 폐업률 (%)')\n",
        "plt.title('밥버거 누적 폐업률')\n",
        "\n",
        "# 플롯 표시\n",
        "plt.xticks(rotation=90, fontsize=8)  # x축 레이블 회전\n",
        "plt.show()"
      ],
      "metadata": {
        "colab": {
          "base_uri": "https://localhost:8080/",
          "height": 419
        },
        "id": "GYwc0swkNjCt",
        "outputId": "ea15eec0-c58b-41ad-f89e-3376e283d4d1"
      },
      "execution_count": 105,
      "outputs": [
        {
          "output_type": "stream",
          "name": "stdout",
          "text": [
            "누적 폐업률 최대값 65.82914572864321\n",
            "누적 폐업률 최대인 년월 153    2023-10\n",
            "Name: 년월, dtype: period[M]\n"
          ]
        },
        {
          "output_type": "display_data",
          "data": {
            "text/plain": [
              "<Figure size 1800x300 with 1 Axes>"
            ],
            "image/png": "[encoded data removed]"
          },
          "metadata": {}
        }
      ]
    },
    {
      "cell_type": "code",
      "source": [
        "first_over_50 = closure_rate[closure_rate['누적 폐업률'] > 50]['년월'].iloc[0]\n",
        "print(\"누적 폐업률이 50을 넘은 첫번째 날:\", first_over_50)"
      ],
      "metadata": {
        "colab": {
          "base_uri": "https://localhost:8080/"
        },
        "id": "qOwOcXrRTh-7",
        "outputId": "2890938f-d382-4ca4-b4d9-fdebd609b15f"
      },
      "execution_count": 92,
      "outputs": [
        {
          "output_type": "stream",
          "name": "stdout",
          "text": [
            "누적 폐업률이 50을 넘은 첫번째 날: 2019-05\n"
          ]
        }
      ]
    },
    {
      "cell_type": "markdown",
      "source": [
        "### 쥬씨"
      ],
      "metadata": {
        "id": "DTSIHsQzOIDv"
      }
    },
    {
      "cell_type": "code",
      "source": [
        "name_df = merged_df[merged_df['사업장명'].str.contains('밥버거', na=False)]\n",
        "name_df = name_df[name_df['년월'] >= '2010-09'] # 1호점 개업 날짜\n",
        "\n",
        "closure_rate = closure_rate_df(name_df, '2016-06')\n",
        "closure_rate.fillna(0, inplace=True)\n",
        "max_closure_rate_month = closure_rate[closure_rate['누적 폐업률'] == max(closure_rate['누적 폐업률'])]['년월']\n",
        "print(\"누적 폐업률 최대값\",max(closure_rate['누적 폐업률']))\n",
        "print(\"누적 폐업률 최대인 년월\",max_closure_rate_month)\n",
        "\n",
        "# 그래프 그리기\n",
        "plt.figure(figsize=(18, 3))  # 그래프 크기 설정\n",
        "plt.bar(closure_rate['년월'].dt.strftime('%Y-%m'), closure_rate['누적 폐업률'])\n",
        "\n",
        "# 축 레이블 및 제목 설정\n",
        "plt.xlabel('년월')\n",
        "plt.ylabel('누적 폐업률 (%)')\n",
        "plt.title('쥬씨 누적 폐업률')\n",
        "\n",
        "# 플롯 표시\n",
        "plt.xticks(rotation=90, fontsize=8)  # x축 레이블 회전\n",
        "plt.show()"
      ],
      "metadata": {
        "colab": {
          "base_uri": "https://localhost:8080/",
          "height": 419
        },
        "id": "wSbjT-zsOHHv",
        "outputId": "28b88714-2c84-4136-88c0-332ef49e4aa6"
      },
      "execution_count": 109,
      "outputs": [
        {
          "output_type": "stream",
          "name": "stdout",
          "text": [
            "누적 폐업률 최대값 65.6456953642384\n",
            "누적 폐업률 최대인 년월 157    2023-10\n",
            "Name: 년월, dtype: period[M]\n"
          ]
        },
        {
          "output_type": "display_data",
          "data": {
            "text/plain": [
              "<Figure size 1800x300 with 1 Axes>"
            ],
            "image/png": "[encoded data removed]"
          },
          "metadata": {}
        }
      ]
    },
    {
      "cell_type": "code",
      "source": [
        "first_over_50 = closure_rate[closure_rate['누적 폐업률'] > 50]['년월'].iloc[0]\n",
        "print(\"누적 폐업률이 50을 넘은 첫번째 날:\", first_over_50)"
      ],
      "metadata": {
        "colab": {
          "base_uri": "https://localhost:8080/"
        },
        "id": "XydYz8KsTj9z",
        "outputId": "8e3ad537-35f5-439f-f1a3-b8c467d7a1de"
      },
      "execution_count": 110,
      "outputs": [
        {
          "output_type": "stream",
          "name": "stdout",
          "text": [
            "누적 폐업률이 50을 넘은 첫번째 날: 2019-05\n"
          ]
        }
      ]
    },
    {
      "cell_type": "markdown",
      "source": [
        "### 카스테라"
      ],
      "metadata": {
        "id": "e8WUspX_OfvM"
      }
    },
    {
      "cell_type": "code",
      "source": [
        "name_df = merged_df[merged_df['사업장명'].str.contains('카스테라', na=False)]\n",
        "name_df = name_df[name_df['년월'] >= '2014-01'] # 1호점 개업 날짜\n",
        "\n",
        "closure_rate = closure_rate_df(name_df, '2016-12')\n",
        "closure_rate.fillna(0, inplace=True)\n",
        "max_closure_rate_month = closure_rate[closure_rate['누적 폐업률'] == max(closure_rate['누적 폐업률'])]['년월']\n",
        "print(\"누적 폐업률 최대값\",max(closure_rate['누적 폐업률']))\n",
        "print(\"누적 폐업률 최대인 년월\",max_closure_rate_month)\n",
        "\n",
        "# 그래프 그리기\n",
        "plt.figure(figsize=(18, 3))  # 그래프 크기 설정\n",
        "plt.bar(closure_rate['년월'].dt.strftime('%Y-%m'), closure_rate['누적 폐업률'])\n",
        "\n",
        "# 축 레이블 및 제목 설정\n",
        "plt.xlabel('년월')\n",
        "plt.ylabel('누적 폐업률 (%)')\n",
        "plt.title('카스테라 누적 폐업률')\n",
        "\n",
        "# 플롯 표시\n",
        "plt.xticks(rotation=90, fontsize=8)  # x축 레이블 회전\n",
        "plt.show()"
      ],
      "metadata": {
        "colab": {
          "base_uri": "https://localhost:8080/",
          "height": 419
        },
        "id": "JXLHDtrKOh51",
        "outputId": "b380bfc0-842e-4234-c70d-cb8b9de1ce76"
      },
      "execution_count": 107,
      "outputs": [
        {
          "output_type": "stream",
          "name": "stdout",
          "text": [
            "누적 폐업률 최대값 83.01886792452831\n",
            "누적 폐업률 최대인 년월 84    2022-11\n",
            "Name: 년월, dtype: period[M]\n"
          ]
        },
        {
          "output_type": "display_data",
          "data": {
            "text/plain": [
              "<Figure size 1800x300 with 1 Axes>"
            ],
            "image/png": "[encoded data removed]"
          },
          "metadata": {}
        }
      ]
    },
    {
      "cell_type": "code",
      "source": [
        "first_over_50 = closure_rate[closure_rate['누적 폐업률'] > 50]['년월'].iloc[0]\n",
        "print(\"누적 폐업률이 50을 넘은 첫번째 날:\", first_over_50)"
      ],
      "metadata": {
        "colab": {
          "base_uri": "https://localhost:8080/"
        },
        "id": "y1hB4dO_TxzV",
        "outputId": "36801d92-3015-4dc0-9d10-d2c87dc76df3"
      },
      "execution_count": 108,
      "outputs": [
        {
          "output_type": "stream",
          "name": "stdout",
          "text": [
            "누적 폐업률이 50을 넘은 첫번째 날: 2017-11\n"
          ]
        }
      ]
    },
    {
      "cell_type": "markdown",
      "source": [
        "### 홍루이젠"
      ],
      "metadata": {
        "id": "kL_mxIjEO0R3"
      }
    },
    {
      "cell_type": "code",
      "source": [
        "name_df = merged_df[merged_df['사업장명'].str.contains('홍루이젠', na=False)]\n",
        "name_df = name_df[name_df['년월'] >= '2018-03'] # 1호점 개업 날짜\n",
        "\n",
        "closure_rate = closure_rate_df(name_df, '2018-08')\n",
        "closure_rate.fillna(0, inplace=True)\n",
        "max_closure_rate_month = closure_rate[closure_rate['누적 폐업률'] == max(closure_rate['누적 폐업률'])]['년월']\n",
        "print(\"누적 폐업률 최대값\",max(closure_rate['누적 폐업률']))\n",
        "print(\"누적 폐업률 최대인 년월\",max_closure_rate_month)\n",
        "\n",
        "# 그래프 그리기\n",
        "plt.figure(figsize=(18, 3))  # 그래프 크기 설정\n",
        "plt.bar(closure_rate['년월'].dt.strftime('%Y-%m'), closure_rate['누적 폐업률'])\n",
        "\n",
        "# 축 레이블 및 제목 설정\n",
        "plt.xlabel('년월')\n",
        "plt.ylabel('누적 폐업률 (%)')\n",
        "plt.title('홍루이젠 누적 폐업률')\n",
        "\n",
        "# 플롯 표시\n",
        "plt.xticks(rotation=90, fontsize=8)  # x축 레이블 회전\n",
        "plt.show()"
      ],
      "metadata": {
        "colab": {
          "base_uri": "https://localhost:8080/",
          "height": 419
        },
        "id": "yj07ARcUOic0",
        "outputId": "26342844-d9a5-42d3-b486-653e90169f93"
      },
      "execution_count": 111,
      "outputs": [
        {
          "output_type": "stream",
          "name": "stdout",
          "text": [
            "누적 폐업률 최대값 63.87959866220736\n",
            "누적 폐업률 최대인 년월 65    2023-10\n",
            "Name: 년월, dtype: period[M]\n"
          ]
        },
        {
          "output_type": "display_data",
          "data": {
            "text/plain": [
              "<Figure size 1800x300 with 1 Axes>"
            ],
            "image/png": "[encoded data removed]"
          },
          "metadata": {}
        }
      ]
    },
    {
      "cell_type": "code",
      "source": [
        "first_over_50 = closure_rate[closure_rate['누적 폐업률'] > 50]['년월'].iloc[0]\n",
        "print(\"누적 폐업률이 50을 넘은 첫번째 날:\", first_over_50)"
      ],
      "metadata": {
        "colab": {
          "base_uri": "https://localhost:8080/"
        },
        "id": "9xVAPjeDT0TM",
        "outputId": "3802ffb5-d2ab-460c-dc35-db0ba7e0d429"
      },
      "execution_count": 112,
      "outputs": [
        {
          "output_type": "stream",
          "name": "stdout",
          "text": [
            "누적 폐업률이 50을 넘은 첫번째 날: 2022-10\n"
          ]
        }
      ]
    },
    {
      "cell_type": "markdown",
      "source": [
        "### 엉터리 생고기"
      ],
      "metadata": {
        "id": "MCDFJ4VUPdif"
      }
    },
    {
      "cell_type": "code",
      "source": [
        "name_df = merged_df[merged_df['사업장명'].str.contains('엉터리생고기', na=False)]\n",
        "name_df = name_df[name_df['년월'] >= '2006-07'] # 1호점 개업 날짜\n",
        "\n",
        "closure_rate = closure_rate_df(name_df, '2016-05')\n",
        "closure_rate.fillna(0, inplace=True)\n",
        "max_closure_rate_month = closure_rate[closure_rate['누적 폐업률'] == max(closure_rate['누적 폐업률'])]['년월']\n",
        "print(\"누적 폐업률 최대값\",max(closure_rate['누적 폐업률']))\n",
        "print(\"누적 폐업률 최대인 년월\",max_closure_rate_month)\n",
        "\n",
        "# 그래프 그리기\n",
        "plt.figure(figsize=(18, 3))  # 그래프 크기 설정\n",
        "plt.bar(closure_rate['년월'].dt.strftime('%Y-%m'), closure_rate['누적 폐업률'])\n",
        "\n",
        "# 축 레이블 및 제목 설정\n",
        "plt.xlabel('년월')\n",
        "plt.ylabel('누적 폐업률 (%)')\n",
        "plt.title('엉터리 생고기 누적 폐업률')\n",
        "\n",
        "# 플롯 표시\n",
        "plt.xticks(rotation=90, fontsize=8)  # x축 레이블 회전\n",
        "plt.show()"
      ],
      "metadata": {
        "colab": {
          "base_uri": "https://localhost:8080/",
          "height": 419
        },
        "id": "zyN6BnJyPevP",
        "outputId": "8769fd78-2e67-4317-afbf-ac6b4635cbcc"
      },
      "execution_count": 122,
      "outputs": [
        {
          "output_type": "stream",
          "name": "stdout",
          "text": [
            "누적 폐업률 최대값 66.39344262295081\n",
            "누적 폐업률 최대인 년월 116    2023-10\n",
            "Name: 년월, dtype: period[M]\n"
          ]
        },
        {
          "output_type": "display_data",
          "data": {
            "text/plain": [
              "<Figure size 1800x300 with 1 Axes>"
            ],
            "image/png": "[encoded data removed]"
          },
          "metadata": {}
        }
      ]
    },
    {
      "cell_type": "code",
      "source": [
        "first_over_50 = closure_rate[closure_rate['누적 폐업률'] > 50]['년월'].iloc[0]\n",
        "print(\"누적 폐업률이 50을 넘은 첫번째 날:\", first_over_50)"
      ],
      "metadata": {
        "colab": {
          "base_uri": "https://localhost:8080/"
        },
        "id": "kzjyPrPBTHEG",
        "outputId": "b54199db-0ca4-4f06-f9e1-f1132c5e8f21"
      },
      "execution_count": 87,
      "outputs": [
        {
          "output_type": "stream",
          "name": "stdout",
          "text": [
            "누적 폐업률이 50을 넘은 첫번째 날: 2021-06\n"
          ]
        }
      ]
    },
    {
      "cell_type": "markdown",
      "source": [
        "## 전체 누적 폐업률 계산"
      ],
      "metadata": {
        "id": "54ablQbX91Og"
      }
    },
    {
      "cell_type": "code",
      "source": [
        "#total_df = merged_df[merged_df['년월'] >= '2013-10'] # 가장 빠른 붐 일자\n",
        "closure_rate_total = closure_rate_df(merged_df, '2013-10')"
      ],
      "metadata": {
        "id": "S2P-hllR93I-"
      },
      "execution_count": 120,
      "outputs": []
    },
    {
      "cell_type": "code",
      "source": [
        "closure_rate_total_p = closure_rate_total[closure_rate_total['년월'] >= '2016-05']\n",
        "closure_rate_total_p.head()"
      ],
      "metadata": {
        "colab": {
          "base_uri": "https://localhost:8080/",
          "height": 206
        },
        "id": "WrRE-kk4AtqJ",
        "outputId": "573d6cfb-c679-42a7-a51f-52ceb374aa5a"
      },
      "execution_count": 125,
      "outputs": [
        {
          "output_type": "execute_result",
          "data": {
            "text/plain": [
              "          년월  누적 인허가 개수   누적 폐업 개수     누적 폐업률\n",
              "760  2016-05  1905303.0  1154427.0  60.590205\n",
              "761  2016-06  1913740.0  1159947.0  60.611525\n",
              "762  2016-07  1921563.0  1164880.0  60.621484\n",
              "763  2016-08  1929116.0  1170399.0  60.670224\n",
              "764  2016-09  1936645.0  1175857.0  60.716187"
            ],
            "text/html": [
              "\n",
              "  <div id=\"df-9ee869a1-3ce1-4071-9504-cc45c7d7f4f5\" class=\"colab-df-container\">\n",
              "    <div>\n",
              "<style scoped>\n",
              "    .dataframe tbody tr th:only-of-type {\n",
              "        vertical-align: middle;\n",
              "    }\n",
              "\n",
              "    .dataframe tbody tr th {\n",
              "        vertical-align: top;\n",
              "    }\n",
              "\n",
              "    .dataframe thead th {\n",
              "        text-align: right;\n",
              "    }\n",
              "</style>\n",
              "<table border=\"1\" class=\"dataframe\">\n",
              "  <thead>\n",
              "    <tr style=\"text-align: right;\">\n",
              "      <th></th>\n",
              "      <th>년월</th>\n",
              "      <th>누적 인허가 개수</th>\n",
              "      <th>누적 폐업 개수</th>\n",
              "      <th>누적 폐업률</th>\n",
              "    </tr>\n",
              "  </thead>\n",
              "  <tbody>\n",
              "    <tr>\n",
              "      <th>760</th>\n",
              "      <td>2016-05</td>\n",
              "      <td>1905303.0</td>\n",
              "      <td>1154427.0</td>\n",
              "      <td>60.590205</td>\n",
              "    </tr>\n",
              "    <tr>\n",
              "      <th>761</th>\n",
              "      <td>2016-06</td>\n",
              "      <td>1913740.0</td>\n",
              "      <td>1159947.0</td>\n",
              "      <td>60.611525</td>\n",
              "    </tr>\n",
              "    <tr>\n",
              "      <th>762</th>\n",
              "      <td>2016-07</td>\n",
              "      <td>1921563.0</td>\n",
              "      <td>1164880.0</td>\n",
              "      <td>60.621484</td>\n",
              "    </tr>\n",
              "    <tr>\n",
              "      <th>763</th>\n",
              "      <td>2016-08</td>\n",
              "      <td>1929116.0</td>\n",
              "      <td>1170399.0</td>\n",
              "      <td>60.670224</td>\n",
              "    </tr>\n",
              "    <tr>\n",
              "      <th>764</th>\n",
              "      <td>2016-09</td>\n",
              "      <td>1936645.0</td>\n",
              "      <td>1175857.0</td>\n",
              "      <td>60.716187</td>\n",
              "    </tr>\n",
              "  </tbody>\n",
              "</table>\n",
              "</div>\n",
              "    <div class=\"colab-df-buttons\">\n",
              "\n",
              "  <div class=\"colab-df-container\">\n",
              "    <button class=\"colab-df-convert\" onclick=\"convertToInteractive('df-9ee869a1-3ce1-4071-9504-cc45c7d7f4f5')\"\n",
              "            title=\"Convert this dataframe to an interactive table.\"\n",
              "            style=\"display:none;\">\n",
              "\n",
              "  <svg xmlns=\"http://www.w3.org/2000/svg\" height=\"24px\" viewBox=\"0 -960 960 960\">\n",
              "    <path d=\"M120-120v-720h720v720H120Zm60-500h600v-160H180v160Zm220 220h160v-160H400v160Zm0 220h160v-160H400v160ZM180-400h160v-160H180v160Zm440 0h160v-160H620v160ZM180-180h160v-160H180v160Zm440 0h160v-160H620v160Z\"/>\n",
              "  </svg>\n",
              "    </button>\n",
              "\n",
              "  <style>\n",
              "    .colab-df-container {\n",
              "      display:flex;\n",
              "      gap: 12px;\n",
              "    }\n",
              "\n",
              "    .colab-df-convert {\n",
              "      background-color: #E8F0FE;\n",
              "      border: none;\n",
              "      border-radius: 50%;\n",
              "      cursor: pointer;\n",
              "      display: none;\n",
              "      fill: #1967D2;\n",
              "      height: 32px;\n",
              "      padding: 0 0 0 0;\n",
              "      width: 32px;\n",
              "    }\n",
              "\n",
              "    .colab-df-convert:hover {\n",
              "      background-color: #E2EBFA;\n",
              "      box-shadow: 0px 1px 2px rgba(60, 64, 67, 0.3), 0px 1px 3px 1px rgba(60, 64, 67, 0.15);\n",
              "      fill: #174EA6;\n",
              "    }\n",
              "\n",
              "    .colab-df-buttons div {\n",
              "      margin-bottom: 4px;\n",
              "    }\n",
              "\n",
              "    [theme=dark] .colab-df-convert {\n",
              "      background-color: #3B4455;\n",
              "      fill: #D2E3FC;\n",
              "    }\n",
              "\n",
              "    [theme=dark] .colab-df-convert:hover {\n",
              "      background-color: #434B5C;\n",
              "      box-shadow: 0px 1px 3px 1px rgba(0, 0, 0, 0.15);\n",
              "      filter: drop-shadow(0px 1px 2px rgba(0, 0, 0, 0.3));\n",
              "      fill: #FFFFFF;\n",
              "    }\n",
              "  </style>\n",
              "\n",
              "    <script>\n",
              "      const buttonEl =\n",
              "        document.querySelector('#df-9ee869a1-3ce1-4071-9504-cc45c7d7f4f5 button.colab-df-convert');\n",
              "      buttonEl.style.display =\n",
              "        google.colab.kernel.accessAllowed ? 'block' : 'none';\n",
              "\n",
              "      async function convertToInteractive(key) {\n",
              "        const element = document.querySelector('#df-9ee869a1-3ce1-4071-9504-cc45c7d7f4f5');\n",
              "        const dataTable =\n",
              "          await google.colab.kernel.invokeFunction('convertToInteractive',\n",
              "                                                    [key], {});\n",
              "        if (!dataTable) return;\n",
              "\n",
              "        const docLinkHtml = 'Like what you see? Visit the ' +\n",
              "          '<a target=\"_blank\" href=https://colab.research.google.com/notebooks/data_table.ipynb>data table notebook</a>'\n",
              "          + ' to learn more about interactive tables.';\n",
              "        element.innerHTML = '';\n",
              "        dataTable['output_type'] = 'display_data';\n",
              "        await google.colab.output.renderOutput(dataTable, element);\n",
              "        const docLink = document.createElement('div');\n",
              "        docLink.innerHTML = docLinkHtml;\n",
              "        element.appendChild(docLink);\n",
              "      }\n",
              "    </script>\n",
              "  </div>\n",
              "\n",
              "\n",
              "<div id=\"df-2392c68b-14a7-40de-86ef-847ed7bc7534\">\n",
              "  <button class=\"colab-df-quickchart\" onclick=\"quickchart('df-2392c68b-14a7-40de-86ef-847ed7bc7534')\"\n",
              "            title=\"Suggest charts\"\n",
              "            style=\"display:none;\">\n",
              "\n",
              "<svg xmlns=\"http://www.w3.org/2000/svg\" height=\"24px\"viewBox=\"0 0 24 24\"\n",
              "     width=\"24px\">\n",
              "    <g>\n",
              "        <path d=\"M19 3H5c-1.1 0-2 .9-2 2v14c0 1.1.9 2 2 2h14c1.1 0 2-.9 2-2V5c0-1.1-.9-2-2-2zM9 17H7v-7h2v7zm4 0h-2V7h2v10zm4 0h-2v-4h2v4z\"/>\n",
              "    </g>\n",
              "</svg>\n",
              "  </button>\n",
              "\n",
              "<style>\n",
              "  .colab-df-quickchart {\n",
              "      --bg-color: #E8F0FE;\n",
              "      --fill-color: #1967D2;\n",
              "      --hover-bg-color: #E2EBFA;\n",
              "      --hover-fill-color: #174EA6;\n",
              "      --disabled-fill-color: #AAA;\n",
              "      --disabled-bg-color: #DDD;\n",
              "  }\n",
              "\n",
              "  [theme=dark] .colab-df-quickchart {\n",
              "      --bg-color: #3B4455;\n",
              "      --fill-color: #D2E3FC;\n",
              "      --hover-bg-color: #434B5C;\n",
              "      --hover-fill-color: #FFFFFF;\n",
              "      --disabled-bg-color: #3B4455;\n",
              "      --disabled-fill-color: #666;\n",
              "  }\n",
              "\n",
              "  .colab-df-quickchart {\n",
              "    background-color: var(--bg-color);\n",
              "    border: none;\n",
              "    border-radius: 50%;\n",
              "    cursor: pointer;\n",
              "    display: none;\n",
              "    fill: var(--fill-color);\n",
              "    height: 32px;\n",
              "    padding: 0;\n",
              "    width: 32px;\n",
              "  }\n",
              "\n",
              "  .colab-df-quickchart:hover {\n",
              "    background-color: var(--hover-bg-color);\n",
              "    box-shadow: 0 1px 2px rgba(60, 64, 67, 0.3), 0 1px 3px 1px rgba(60, 64, 67, 0.15);\n",
              "    fill: var(--button-hover-fill-color);\n",
              "  }\n",
              "\n",
              "  .colab-df-quickchart-complete:disabled,\n",
              "  .colab-df-quickchart-complete:disabled:hover {\n",
              "    background-color: var(--disabled-bg-color);\n",
              "    fill: var(--disabled-fill-color);\n",
              "    box-shadow: none;\n",
              "  }\n",
              "\n",
              "  .colab-df-spinner {\n",
              "    border: 2px solid var(--fill-color);\n",
              "    border-color: transparent;\n",
              "    border-bottom-color: var(--fill-color);\n",
              "    animation:\n",
              "      spin 1s steps(1) infinite;\n",
              "  }\n",
              "\n",
              "  @keyframes spin {\n",
              "    0% {\n",
              "      border-color: transparent;\n",
              "      border-bottom-color: var(--fill-color);\n",
              "      border-left-color: var(--fill-color);\n",
              "    }\n",
              "    20% {\n",
              "      border-color: transparent;\n",
              "      border-left-color: var(--fill-color);\n",
              "      border-top-color: var(--fill-color);\n",
              "    }\n",
              "    30% {\n",
              "      border-color: transparent;\n",
              "      border-left-color: var(--fill-color);\n",
              "      border-top-color: var(--fill-color);\n",
              "      border-right-color: var(--fill-color);\n",
              "    }\n",
              "    40% {\n",
              "      border-color: transparent;\n",
              "      border-right-color: var(--fill-color);\n",
              "      border-top-color: var(--fill-color);\n",
              "    }\n",
              "    60% {\n",
              "      border-color: transparent;\n",
              "      border-right-color: var(--fill-color);\n",
              "    }\n",
              "    80% {\n",
              "      border-color: transparent;\n",
              "      border-right-color: var(--fill-color);\n",
              "      border-bottom-color: var(--fill-color);\n",
              "    }\n",
              "    90% {\n",
              "      border-color: transparent;\n",
              "      border-bottom-color: var(--fill-color);\n",
              "    }\n",
              "  }\n",
              "</style>\n",
              "\n",
              "  <script>\n",
              "    async function quickchart(key) {\n",
              "      const quickchartButtonEl =\n",
              "        document.querySelector('#' + key + ' button');\n",
              "      quickchartButtonEl.disabled = true;  // To prevent multiple clicks.\n",
              "      quickchartButtonEl.classList.add('colab-df-spinner');\n",
              "      try {\n",
              "        const charts = await google.colab.kernel.invokeFunction(\n",
              "            'suggestCharts', [key], {});\n",
              "      } catch (error) {\n",
              "        console.error('Error during call to suggestCharts:', error);\n",
              "      }\n",
              "      quickchartButtonEl.classList.remove('colab-df-spinner');\n",
              "      quickchartButtonEl.classList.add('colab-df-quickchart-complete');\n",
              "    }\n",
              "    (() => {\n",
              "      let quickchartButtonEl =\n",
              "        document.querySelector('#df-2392c68b-14a7-40de-86ef-847ed7bc7534 button');\n",
              "      quickchartButtonEl.style.display =\n",
              "        google.colab.kernel.accessAllowed ? 'block' : 'none';\n",
              "    })();\n",
              "  </script>\n",
              "</div>\n",
              "\n",
              "    </div>\n",
              "  </div>\n"
            ]
          },
          "metadata": {},
          "execution_count": 125
        }
      ]
    },
    {
      "cell_type": "code",
      "source": [
        "import matplotlib.pyplot as plt\n",
        "import numpy as np\n",
        "\n",
        "common_dates = closure_rate['년월'].isin(closure_rate_total['년월'])\n",
        "closure_rate_common = closure_rate[common_dates]\n",
        "\n",
        "common_dates_total = closure_rate_total_p['년월'].isin(closure_rate['년월'])\n",
        "closure_rate_total_common = closure_rate_total_p[common_dates_total]\n",
        "\n",
        "bar_width = 0.35\n",
        "index = np.arange(len(closure_rate_common['년월']))\n",
        "\n",
        "# 그래프 그리기\n",
        "plt.figure(figsize=(18, 3))\n",
        "\n",
        "plt.bar(index, closure_rate_common['누적 폐업률'], bar_width, label='엉터리 생고기 폐업률')\n",
        "\n",
        "plt.bar(index + bar_width, closure_rate_total_common['누적 폐업률'], bar_width, label='전체 폐업률')\n",
        "\n",
        "plt.xlabel('년월')\n",
        "plt.ylabel('누적 폐업률 (%)')\n",
        "plt.title('엉터리 생고기 누적 폐업률')\n",
        "\n",
        "plt.xticks(index + bar_width / 2, closure_rate_common['년월'].dt.strftime('%Y-%m'), rotation=90, fontsize=8)\n",
        "\n",
        "plt.legend()\n",
        "\n",
        "plt.show()"
      ],
      "metadata": {
        "colab": {
          "base_uri": "https://localhost:8080/",
          "height": 364
        },
        "id": "8Sl-qBhmBEh-",
        "outputId": "4f0c623b-3343-407f-da14-ed2b23ca19af"
      },
      "execution_count": 131,
      "outputs": [
        {
          "output_type": "display_data",
          "data": {
            "text/plain": [
              "<Figure size 1800x300 with 1 Axes>"
            ],
            "image/png": "[encoded data removed]"
          },
          "metadata": {}
        }
      ]
    }
  ]
}